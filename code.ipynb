{
 "cells": [
  {
   "cell_type": "markdown",
   "id": "02aadaee",
   "metadata": {},
   "source": [
    "# catboost"
   ]
  },
  {
   "cell_type": "code",
   "execution_count": null,
   "id": "416f382c",
   "metadata": {},
   "outputs": [],
   "source": [
    "from catboost import CatBoostClassifier\n",
    "# 输出模型的性能\n",
    "catboost2 = CatBoostClassifier(eval_metric = \"Precision\",iterations=1000,depth = 13, learning_rate = 0.05,random_state=43)\n",
    "\n",
    "# 训练模型\n",
    "catboost2.fit(X_resampled_gai, y_resampled_gai)\n"
   ]
  },
  {
   "cell_type": "markdown",
   "id": "34e7a00b",
   "metadata": {},
   "source": [
    "# gbdt"
   ]
  },
  {
   "cell_type": "code",
   "execution_count": null,
   "id": "67af9900",
   "metadata": {},
   "outputs": [],
   "source": [
    "best_params_gbdt = {'learning_rate': 0.1173566376105249, 'max_depth': 7, 'n_estimators': 478, 'subsample': 0.9276550529571119, 'max_features': 0.6869505424410434} \n",
    "gbdt_final = GradientBoostingClassifier(**best_params_gbdt,random_state=10)\n",
    "gbdt_final.fit(X_resampled_gai,y_resampled_gai)"
   ]
  },
  {
   "cell_type": "markdown",
   "id": "40668f45",
   "metadata": {},
   "source": [
    "# RF"
   ]
  },
  {
   "cell_type": "code",
   "execution_count": null,
   "id": "34b3a6ee",
   "metadata": {},
   "outputs": [],
   "source": [
    "best_params2 = {'max_depth': 29, 'min_samples_split': 4, 'n_estimators': 469, 'max_features': 0.5283203957806778,'random_state':99} \n",
    "Rf2 = RandomForestClassifier(**best_params_randf2)\n",
    "Rf2.fit(X_train_fen2, y_train_fen2)"
   ]
  },
  {
   "cell_type": "markdown",
   "id": "68f30b80",
   "metadata": {},
   "source": [
    "# LR"
   ]
  },
  {
   "cell_type": "code",
   "execution_count": null,
   "id": "771be43d",
   "metadata": {},
   "outputs": [],
   "source": [
    "best_params_lr = {'C': 22.063507278553846, 'max_iter': 275} \n",
    "lr_best = LogisticRegression(**best_params_lr)\n",
    "lr_best.fit(X_resampled_gai, y_resampled_gai)\n"
   ]
  },
  {
   "cell_type": "markdown",
   "id": "6603b7af",
   "metadata": {},
   "source": [
    "# GNB"
   ]
  },
  {
   "cell_type": "code",
   "execution_count": null,
   "id": "54a1010e",
   "metadata": {},
   "outputs": [],
   "source": [
    "best_params_gnb = {'priors': None, 'var_smoothing': 1e-09} \n",
    "gnb_best = GaussianNB(**best_params_gnb)\n",
    "gnb_best.fit(X_resampled_gai, y_resampled_gai)\n"
   ]
  },
  {
   "cell_type": "markdown",
   "id": "5a83a365",
   "metadata": {},
   "source": [
    "# vot"
   ]
  },
  {
   "cell_type": "code",
   "execution_count": null,
   "id": "8634ef12",
   "metadata": {},
   "outputs": [],
   "source": [
    "\n",
    "\n",
    "voting_clf = VotingClassifier(\n",
    "    estimators=[('model1', catboost2), ('model2', Rf_best), ('model3', gbdt_final)],\n",
    "    voting='soft',\n",
    "    weights = [1, 2, 1] \n",
    ")\n",
    "\n",
    "# 假设有一个测试集X_test和相应的标签y_test\n",
    "# 使用模型融合投票法进行预测\n",
    "voting_clf.fit(X_resampled_gai, y_resampled_gai)\n",
    "y_pred = voting_clf.predict(X_test_fen2)"
   ]
  }
 ],
 "metadata": {
  "kernelspec": {
   "display_name": "Python 3 (ipykernel)",
   "language": "python",
   "name": "python3"
  },
  "language_info": {
   "codemirror_mode": {
    "name": "ipython",
    "version": 3
   },
   "file_extension": ".py",
   "mimetype": "text/x-python",
   "name": "python",
   "nbconvert_exporter": "python",
   "pygments_lexer": "ipython3",
   "version": "3.9.13"
  }
 },
 "nbformat": 4,
 "nbformat_minor": 5
}
